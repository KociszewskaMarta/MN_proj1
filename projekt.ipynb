{
 "cells": [
  {
   "metadata": {},
   "cell_type": "markdown",
   "source": [
    "MACD - wskaźnik zbieżności/rozbieżności średnich kroczących (ang. moving average convergence/divergence)\n",
    "\n",
    "$$MACD = EMA_{12}-EMA_{26}$$\n",
    "\n",
    "EMA - wykładnicza średnia krocząca (ang. exponential moving average)\n",
    "\n",
    "**Obliczana jest ze wzoru (rekurenycjnie):**\n",
    "$$EMA_N(i) = \\alpha * x_i + (1- \\alpha) * EMA_N(i-1)$$\n",
    "\n",
    "**Postać jawna:**\n",
    "$$EMA_N(i) = \\frac{x_1 + (1-\\alpha)x_{i-1} + (1-\\alpha)^2 x_{i-2} + ... + (1-\\alpha)^N x_{i-N}}{1+ (1 - \\alpha) + (1 - \\alpha)^2 + ... + + (1 - \\alpha)^N}$$\n",
    "\n",
    "Gdzie:\n",
    "- $x_i$ - cena zamknięcia w i-tym przedziale czasowym\n",
    "- $N$ - liczba okresów\n",
    "- $\\alpha = \\frac{2}{N+1}$ - współczynnik wygładzania"
   ],
   "id": "ecac933bc002f79f"
  },
  {
   "metadata": {},
   "cell_type": "markdown",
   "source": [
    "**ALGORYTM**\n",
    "1. Wczytać dane z pliku CSV (cena zamknięcia)\n",
    "2. Obliczyć EMA dla 12 okresów\n",
    "3. Obliczyć EMA dla 26 okresów\n",
    "4. Wyznaczyć krzywą MACD jako różnicę EMA(12) i EMA(26)\n",
    "5. Wyznaczyć linię SIGNAL jako 9-okresową wykładniczą średnią kroczącą krzywej MACD\n",
    "6. Wyznaczyć przecięcia krzywej MACD i linii SIGNAL\n",
    "    - jeśli krzywa MACD przecina linię SIGNAL od dołu to sygnał kupna\n",
    "    - jeśli krzywa MACD przecina linię SIGNAL od góry to sygnał sprzedaży\n",
    "    - w sytuacji, gdy przecięcie występuje pomiędzy i-tym okresem oraz i+1 okresem, to sygnał kupna/sprzedaży występuje w i+1 okresie\n",
    "7. Wyznaczyć histogram jako różnicę krzywej MACD i linii SIGNAL"
   ],
   "id": "c3cb39fd3f044e9c"
  },
  {
   "metadata": {},
   "cell_type": "markdown",
   "source": [
    "**Funkcje do zaimplementowania**\n",
    "1. `ema(data, N)` - funkcja zwracająca EMA dla N okresów\n",
    "2. `macd(data)` - funkcja zwracająca MACD\n",
    "3. `signal(data)` - funkcja zwracająca linię SIGNAL\n",
    "4. `cross(data)` - funkcja zwracająca sygnały kupna i sprzedaży\n",
    "5. `histogram(data)` - funkcja zwracająca histogram\n",
    "6. `plot(data)` - funkcja rysująca wykres z ceną zamknięcia, MACD, linią SIGNAL, histogramem oraz sygnałami kupna i sprzedaży\n",
    "7. `backtest(data)` - funkcja zwracająca zysk z inwestycji\n"
   ],
   "id": "566e19e1692d892b"
  },
  {
   "metadata": {},
   "cell_type": "markdown",
   "source": [
    "Możliwe do używania biblioteki:\n",
    "- pandas\n",
    "- numpy"
   ],
   "id": "b6d42213ced15ee4"
  },
  {
   "metadata": {},
   "cell_type": "markdown",
   "source": [
    "**Zadania do wykonania**\n",
    "\n",
    "1. [x] Zapoznaj się z teorią wskaźnika MACD (korzystając zarówno z niniejszej instrukcji, jak i z innych dostępnych źródeł).\n",
    "2. [x] Wybierz dane wejściowe zapisane w pliku *.csv zawierające około 1000 elementów. Mogą to być historyczne wartości indeksu WIG20, dane z rynku FOREX, notowania kryptowalut, obligacji, surowców itp.\n",
    "3. [ ] Należy zaimplementować w języku Python wyznaczanie wartości wskaźnika MACD (bez korzystania z bibliotek, które już go udostępniają). Do wczytania danych w formacie *.csv można użyć biblioteki pandas. W ramachtego zadania należy opracować i zinterpretować co najmniej dwa wykresy wykonane dla wybranego zestawu danych (zawierającego ok. 1000 elementów):\n",
    "    - wykres notowań analizowanego instrumentu finansowego,\n",
    "    - wykres zawierający: a) MACD, b) SIGNAL, c) punkty kupna i sprzedaży oznaczone różnymi symbolami lub kolorami. *Liczba punktów za zadanie: 2.*\n",
    "4. [ ] Następnie należy ocenić, czy wskaźnik MACD może być pomocny przy podejmowaniu decyzji o kupnie i sprzedaży wybranego instrumentu finansowego. W tym celu trzeba przedstawić i zinterpretować co najmniej dwa wykresy przedstawiające transakcje kupna-sprzedaży. Każdy z tych wykresów powinien ilustrować jedną lub dwie wyraźnie zaznaczone transakcje kupna-sprzedaży oraz od czterech do ośmiu przecięć MACD i SIGNAL. W sprawozdaniu należy przedstawić analizę zilustrowanych transakcji wraz ze wskazaniem wartości zysku lub straty każdej z nich. *Liczba punktów za zadanie: 3.*\n",
    "5. [ ] Kolejne zadanie wymaga opracowania programu, który automatycznie, na podstawie wskaźnika MACD, podejmuje decyzje o kupnie lub sprzedaży wybranego instrumentu finansowego. Symulację działania tego programu należy przeprowadzić rozpoczynając od kapitału początkowego wynoszącego 1000 jednostek wybranego instrumentu finansowego. Symulację należy przeprowadzić dla całości danych wejściowych (nie należy uwzględniać tych próbek, dla których wartość MACD lub SIGNAL nie jest prawidłowo wyznaczona). Głównym rezultatem działania programu ma być końcowy kapitał inwestora. Otrzymane rezultaty symulacji należy przeanalizować i zinterpretować w sprawozdaniu. Częścią tej analizy powinno być przedstawienie wykresu, który ilustruje jak zmienia się wartość portfela inwestycyjnego (suma gotówki oraz wyceny posiadanych instrumentów finansowych) po kolejnych transakcjach. Dodatkowo, należy opisać ile z przeprowadzonych transakcji zakończyło się zyskiem a ile stratą wraz z oceną skuteczności zastosowania MACD do przeprowadzania transakcji finansowych. Przedstawione wnioski można uzasadnić dodając kolejne wykresy ilustrujące transakcje. *Liczba punktów za zadanie: 2.*\n",
    " 6. [ ] *Za wstęp i podsumowanie można uzyskać maksymalnie po 1,5 punktu.*"
   ],
   "id": "e16929d878c6fcd2"
  },
  {
   "metadata": {},
   "cell_type": "markdown",
   "source": [
    "**Sprawozdanie**\n",
    "- [ ] W sprawozdaniu należy przedstawić wnioski, uzasadnić przydatność lub brak przydatności MACD w analizie technicznej, wskazać miejsca na wykresach, gdzie MACD pomaga lub zawodzi. Sprawozdanie w formacie PDForaz kod źródłowy należy umieścić w pliku zip, który należy przesłać na platformę eNauczanie na stronie pro1."
   ],
   "id": "a83e6d54988b8f5a"
  }
 ],
 "metadata": {
  "kernelspec": {
   "display_name": "Python 3",
   "language": "python",
   "name": "python3"
  },
  "language_info": {
   "codemirror_mode": {
    "name": "ipython",
    "version": 2
   },
   "file_extension": ".py",
   "mimetype": "text/x-python",
   "name": "python",
   "nbconvert_exporter": "python",
   "pygments_lexer": "ipython2",
   "version": "2.7.6"
  }
 },
 "nbformat": 4,
 "nbformat_minor": 5
}
